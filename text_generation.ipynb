{
 "cells": [
  {
   "cell_type": "markdown",
   "metadata": {},
   "source": [
    "# API Method"
   ]
  },
  {
   "cell_type": "code",
   "execution_count": null,
   "metadata": {},
   "outputs": [],
   "source": [
    "\n",
    "import openai\n",
    "import os\n",
    "\n",
    "\n",
    "openai.api_key = 'YOUR_SECRET_API_KEY'"
   ]
  },
  {
   "cell_type": "code",
   "execution_count": null,
   "metadata": {},
   "outputs": [],
   "source": [
    "\n",
    "def get_completion(prompt, model=\"gpt-3.5-turbo\"):\n",
    "    \n",
    "    messages = [{\"role\": \"user\", \"content\": prompt}]  \n",
    "    response = openai.ChatCompletion.create(\n",
    "        model=model,\n",
    "        messages=messages,\n",
    "        temperature=0.3, # Randomness level\n",
    "    )\n",
    "    return response.choices[0].message[\"content\"] #JSON response"
   ]
  },
  {
   "cell_type": "code",
   "execution_count": null,
   "metadata": {},
   "outputs": [],
   "source": [
    "response = get_completion()\n",
    "print(response)"
   ]
  },
  {
   "cell_type": "code",
   "execution_count": null,
   "metadata": {},
   "outputs": [],
   "source": [
    "# Prompt format\n",
    "\n",
    "prompt = f\"\"\"\n",
    "\n",
    "Your task is to give me the main topic of a sentence or series of sentences in a consistent style. In English\n",
    "\n",
    "<worker>: I was feeling bad because i don't have to time to be happy since I am in the company.\n",
    "\n",
    "1 or more sentences...\n",
    "\n",
    "<user>:\n",
    "\n",
    "Use at most 4 words for the topic.\n",
    "\"\"\""
   ]
  },
  {
   "cell_type": "code",
   "execution_count": 1,
   "metadata": {},
   "outputs": [],
   "source": [
    "# Prompt example\n",
    "\n",
    "'''\n",
    "Necesito que pensemos esto lentamente.\n",
    "\n",
    "Debes leer cada oración detalladamente y obtener solo el tópico principal que da sentido y del que se está hablando en toda la oración.\n",
    "\n",
    "Si se da una descripción o caracterización del tópico también debes tomarla para darle sentido a lo anteriormente expuesto.\n",
    "\n",
    "Devolveras por cada oración su tópico con una longitud máxima de unas 2 o 3 palabras.\n",
    "\n",
    "1 - \"Creo que todos pensamos y podemos decir que la remuneración no es la correcta. Si bien nos alcanza, está por debajo del valor de mercado.\"\n",
    "\n",
    "2- \"La semana pasada la comunicación del equipo fue inefectiva.\"\n",
    "\n",
    "3- \"Me gustaría que tuvieramos un tiempo libre en medio de la jornada para promover un ambiente recreativo. Me ayudaría a desconectar y trabajar mejor\"\n",
    "'''"
   ]
  },
  {
   "cell_type": "markdown",
   "metadata": {},
   "source": [
    "# Text Generation Model"
   ]
  },
  {
   "cell_type": "markdown",
   "metadata": {},
   "source": []
  }
 ],
 "metadata": {
  "kernelspec": {
   "display_name": "Python 3",
   "language": "python",
   "name": "python3"
  },
  "language_info": {
   "codemirror_mode": {
    "name": "ipython",
    "version": 3
   },
   "file_extension": ".py",
   "mimetype": "text/x-python",
   "name": "python",
   "nbconvert_exporter": "python",
   "pygments_lexer": "ipython3",
   "version": "3.11.6"
  }
 },
 "nbformat": 4,
 "nbformat_minor": 2
}
