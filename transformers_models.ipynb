{
 "cells": [
  {
   "cell_type": "code",
   "execution_count": 25,
   "metadata": {},
   "outputs": [],
   "source": [
    "from transformers import pipeline"
   ]
  },
  {
   "cell_type": "markdown",
   "metadata": {},
   "source": [
    "We use some sentences to discard models quickly. In the next step we are gonna test the selected models with at least +100k with spanish and english sentences to select what fit our needs best.\n",
    "\n",
    "We let just usefull models but we tested an approximate amount of 35 models"
   ]
  },
  {
   "cell_type": "code",
   "execution_count": 26,
   "metadata": {},
   "outputs": [],
   "source": [
    "# These sentences could be used in a work environment in the first two languagues. We want to see the differences between the 2 languages\n",
    "# in the same model and what he tends to do.\n",
    "\n",
    "sentences = [ 'Lo que se hizo es malisimo lo detesto.', \n",
    "             'I really hate what he did. It was not a good week.',\n",
    "             'me parece muy bueno todo estoy agradecido.',\n",
    "             'I think all the people has the comittment to work fine and I am thanks because of that.',\n",
    "             'I am so happy to be here',\n",
    "             'Me sentí muy feliz a lo largo de la jornada. Quiero destacar que el trabajo en equipo fue muy positivo y me apoyo aunque no fue del todo fácil. Entiendo que es parte de un período de adaptación.',\n",
    "             'I felt very happy throughout the day. I want to highlight that the teamwork was very positive and they supported me although it was not entirely easy. I understand that it is part of a period of adaptation.',\n",
    "             'Creo que el stack tecnologico no es muy bueno y no me quedan claros los requerimentos. Debería haber más esfuerzo por parte de los jefes y líderes del equipo',\n",
    "             'I think the technological stack is not very good and the requirements are not clear to me. There should be more effort on the part of the bosses and team leaders.'\n",
    "             ]"
   ]
  },
  {
   "cell_type": "markdown",
   "metadata": {},
   "source": [
    "# Models"
   ]
  },
  {
   "cell_type": "markdown",
   "metadata": {},
   "source": [
    "Most of these models don't understand irony, double negatives, and words or expressions specific to groups or places (slang) well, but since we're talking about a work environment we don't worry about those kinds of things. If we want to improve their performance in these fields, we need to tune the models for that."
   ]
  },
  {
   "cell_type": "markdown",
   "metadata": {},
   "source": [
    "## Base model"
   ]
  },
  {
   "cell_type": "code",
   "execution_count": 27,
   "metadata": {},
   "outputs": [
    {
     "name": "stderr",
     "output_type": "stream",
     "text": [
      "Some weights of XLMRobertaForSequenceClassification were not initialized from the model checkpoint at xlm-roberta-base and are newly initialized: ['classifier.out_proj.weight', 'classifier.dense.bias', 'classifier.dense.weight', 'classifier.out_proj.bias']\n",
      "You should probably TRAIN this model on a down-stream task to be able to use it for predictions and inference.\n"
     ]
    }
   ],
   "source": [
    "# Base model possibility. It has to be finnetuned to be used in a specific way.\n",
    "\n",
    "base_model = pipeline(\"sentiment-analysis\", model=\"xlm-roberta-base\", framework=\"pt\")"
   ]
  },
  {
   "cell_type": "code",
   "execution_count": 28,
   "metadata": {},
   "outputs": [
    {
     "name": "stdout",
     "output_type": "stream",
     "text": [
      "-------------------------------------------------------------------------\n",
      "Model xlm-roberta-base\n",
      "-------------------------------------------------------------------------\n",
      "\n",
      "Sentence: Lo que se hizo es malisimo lo detesto.\n",
      "[{'label': 'LABEL_0', 'score': 0.503447413444519}]\n",
      "--------------------------------------------------------------------------------\n",
      "\n",
      "Sentence: I really hate what he did. It was not a good week.\n",
      "[{'label': 'LABEL_0', 'score': 0.513603150844574}]\n",
      "--------------------------------------------------------------------------------\n",
      "\n",
      "Sentence: me parece muy bueno todo estoy agradecido.\n",
      "[{'label': 'LABEL_0', 'score': 0.5075839757919312}]\n",
      "--------------------------------------------------------------------------------\n",
      "\n",
      "Sentence: I think all the people has the comittment to work fine and I am thanks because of that.\n",
      "[{'label': 'LABEL_1', 'score': 0.5018354654312134}]\n",
      "--------------------------------------------------------------------------------\n",
      "\n",
      "Sentence: I am so happy to be here\n",
      "[{'label': 'LABEL_1', 'score': 0.5006607174873352}]\n",
      "--------------------------------------------------------------------------------\n",
      "\n",
      "Sentence: Me sentí muy feliz a lo largo de la jornada. Quiero destacar que el trabajo en equipo fue muy positivo y me apoyo aunque no fue del todo fácil. Entiendo que es parte de un período de adaptación.\n",
      "[{'label': 'LABEL_0', 'score': 0.5024366974830627}]\n",
      "--------------------------------------------------------------------------------\n",
      "\n",
      "Sentence: I felt very happy throughout the day. I want to highlight that the teamwork was very positive and they supported me although it was not entirely easy. I understand that it is part of a period of adaptation.\n",
      "[{'label': 'LABEL_0', 'score': 0.5051360130310059}]\n",
      "--------------------------------------------------------------------------------\n",
      "\n",
      "Sentence: Creo que el stack tecnologico no es muy bueno y no me quedan claros los requerimentos. Debería haber más esfuerzo por parte de los jefes y líderes del equipo\n",
      "[{'label': 'LABEL_1', 'score': 0.5018137097358704}]\n",
      "--------------------------------------------------------------------------------\n",
      "\n",
      "Sentence: I think the technological stack is not very good and the requirements are not clear to me. There should be more effort on the part of the bosses and team leaders.\n",
      "[{'label': 'LABEL_0', 'score': 0.5033111572265625}]\n",
      "--------------------------------------------------------------------------------\n",
      "\n"
     ]
    }
   ],
   "source": [
    "\n",
    "print('-------------------------------------------------------------------------')\n",
    "print(f'Model {base_model.model.name_or_path}')\n",
    "print('-------------------------------------------------------------------------\\n')\n",
    "    \n",
    "for i in sentences:\n",
    "    \n",
    "    print(f'Sentence: {i}')\n",
    "    print(base_model(i))\n",
    "    print('--------------------------------------------------------------------------------\\n')"
   ]
  },
  {
   "cell_type": "markdown",
   "metadata": {},
   "source": [
    "## Spanish"
   ]
  },
  {
   "cell_type": "code",
   "execution_count": 29,
   "metadata": {},
   "outputs": [
    {
     "name": "stderr",
     "output_type": "stream",
     "text": [
      "Special tokens have been added in the vocabulary, make sure the associated word embeddings are fine-tuned or trained.\n"
     ]
    }
   ],
   "source": [
    "# Lightweight model fine-tuned for Spanish sentiment analysis. Usually predicts Neutral when the sentence is in English.\n",
    "\n",
    "# Sentiment analysis in Spanish\n",
    "\n",
    "analyzer_es = pipeline(\"sentiment-analysis\", model=\"Christiansg/finetuning-sentiment_spanish-amazon-group23\", framework=\"pt\", max_length=512, truncation=True)"
   ]
  },
  {
   "cell_type": "code",
   "execution_count": 30,
   "metadata": {},
   "outputs": [
    {
     "name": "stdout",
     "output_type": "stream",
     "text": [
      "-------------------------------------------------------------------------\n",
      "Model Christiansg/finetuning-sentiment_spanish-amazon-group23\n",
      "-------------------------------------------------------------------------\n",
      "\n",
      "Sentence: Lo que se hizo es malisimo lo detesto.\n",
      "[{'label': 'NEG', 'score': 0.9998739957809448}]\n",
      "--------------------------------------------------------------------------------\n",
      "\n",
      "Sentence: I really hate what he did. It was not a good week.\n",
      "[{'label': 'NEU', 'score': 0.9997308850288391}]\n",
      "--------------------------------------------------------------------------------\n",
      "\n",
      "Sentence: me parece muy bueno todo estoy agradecido.\n",
      "[{'label': 'NEU', 'score': 0.999830961227417}]\n",
      "--------------------------------------------------------------------------------\n",
      "\n",
      "Sentence: I think all the people has the comittment to work fine and I am thanks because of that.\n",
      "[{'label': 'NEU', 'score': 0.9953254461288452}]\n",
      "--------------------------------------------------------------------------------\n",
      "\n",
      "Sentence: I am so happy to be here\n",
      "[{'label': 'NEU', 'score': 0.9998687505722046}]\n",
      "--------------------------------------------------------------------------------\n",
      "\n",
      "Sentence: Me sentí muy feliz a lo largo de la jornada. Quiero destacar que el trabajo en equipo fue muy positivo y me apoyo aunque no fue del todo fácil. Entiendo que es parte de un período de adaptación.\n",
      "[{'label': 'NEU', 'score': 0.9999268054962158}]\n",
      "--------------------------------------------------------------------------------\n",
      "\n",
      "Sentence: I felt very happy throughout the day. I want to highlight that the teamwork was very positive and they supported me although it was not entirely easy. I understand that it is part of a period of adaptation.\n",
      "[{'label': 'NEU', 'score': 0.999847412109375}]\n",
      "--------------------------------------------------------------------------------\n",
      "\n",
      "Sentence: Creo que el stack tecnologico no es muy bueno y no me quedan claros los requerimentos. Debería haber más esfuerzo por parte de los jefes y líderes del equipo\n",
      "[{'label': 'NEG', 'score': 0.9985620379447937}]\n",
      "--------------------------------------------------------------------------------\n",
      "\n",
      "Sentence: I think the technological stack is not very good and the requirements are not clear to me. There should be more effort on the part of the bosses and team leaders.\n",
      "[{'label': 'NEU', 'score': 0.8278398513793945}]\n",
      "--------------------------------------------------------------------------------\n",
      "\n"
     ]
    }
   ],
   "source": [
    "\n",
    "print('-------------------------------------------------------------------------')\n",
    "print(f'Model {analyzer_es.model.name_or_path}')\n",
    "print('-------------------------------------------------------------------------\\n')\n",
    "    \n",
    "for i in sentences:\n",
    "    \n",
    "    print(f'Sentence: {i}')\n",
    "    print(analyzer_es(i))\n",
    "    print('--------------------------------------------------------------------------------\\n')"
   ]
  },
  {
   "cell_type": "markdown",
   "metadata": {},
   "source": [
    "## Default - English model"
   ]
  },
  {
   "cell_type": "code",
   "execution_count": 31,
   "metadata": {},
   "outputs": [
    {
     "name": "stderr",
     "output_type": "stream",
     "text": [
      "No model was supplied, defaulted to distilbert-base-uncased-finetuned-sst-2-english and revision af0f99b (https://huggingface.co/distilbert-base-uncased-finetuned-sst-2-english).\n",
      "Using a pipeline without specifying a model name and revision in production is not recommended.\n"
     ]
    }
   ],
   "source": [
    "# Default model for sentimental analysis in English (distilbert-base-uncased-finetuned-sst-2-english). Really good performance\n",
    "# Positive and negative label with accurraccy of their responses.\n",
    "\n",
    "analyzer_eng = pipeline(\"sentiment-analysis\")"
   ]
  },
  {
   "cell_type": "code",
   "execution_count": 32,
   "metadata": {},
   "outputs": [
    {
     "name": "stdout",
     "output_type": "stream",
     "text": [
      "-------------------------------------------------------------------------\n",
      "Model lxyuan/distilbert-base-multilingual-cased-sentiments-student\n",
      "-------------------------------------------------------------------------\n",
      "\n",
      "Sentence: Lo que se hizo es malisimo lo detesto.\n",
      "[{'label': 'NEGATIVE', 'score': 0.883853554725647}]\n",
      "--------------------------------------------------------------------------------\n",
      "\n",
      "Sentence: I really hate what he did. It was not a good week.\n",
      "[{'label': 'NEGATIVE', 'score': 0.9997681975364685}]\n",
      "--------------------------------------------------------------------------------\n",
      "\n",
      "Sentence: me parece muy bueno todo estoy agradecido.\n",
      "[{'label': 'NEGATIVE', 'score': 0.923772394657135}]\n",
      "--------------------------------------------------------------------------------\n",
      "\n",
      "Sentence: I think all the people has the comittment to work fine and I am thanks because of that.\n",
      "[{'label': 'POSITIVE', 'score': 0.99969482421875}]\n",
      "--------------------------------------------------------------------------------\n",
      "\n",
      "Sentence: I am so happy to be here\n",
      "[{'label': 'POSITIVE', 'score': 0.9998773336410522}]\n",
      "--------------------------------------------------------------------------------\n",
      "\n",
      "Sentence: Me sentí muy feliz a lo largo de la jornada. Quiero destacar que el trabajo en equipo fue muy positivo y me apoyo aunque no fue del todo fácil. Entiendo que es parte de un período de adaptación.\n",
      "[{'label': 'NEGATIVE', 'score': 0.95087069272995}]\n",
      "--------------------------------------------------------------------------------\n",
      "\n",
      "Sentence: I felt very happy throughout the day. I want to highlight that the teamwork was very positive and they supported me although it was not entirely easy. I understand that it is part of a period of adaptation.\n",
      "[{'label': 'POSITIVE', 'score': 0.999775230884552}]\n",
      "--------------------------------------------------------------------------------\n",
      "\n",
      "Sentence: Creo que el stack tecnologico no es muy bueno y no me quedan claros los requerimentos. Debería haber más esfuerzo por parte de los jefes y líderes del equipo\n",
      "[{'label': 'NEGATIVE', 'score': 0.9896514415740967}]\n",
      "--------------------------------------------------------------------------------\n",
      "\n",
      "Sentence: I think the technological stack is not very good and the requirements are not clear to me. There should be more effort on the part of the bosses and team leaders.\n",
      "[{'label': 'NEGATIVE', 'score': 0.9997500777244568}]\n",
      "--------------------------------------------------------------------------------\n",
      "\n"
     ]
    }
   ],
   "source": [
    "\n",
    "print('-------------------------------------------------------------------------')\n",
    "print(f'Model {analyzer_1.model.name_or_path}')\n",
    "print('-------------------------------------------------------------------------\\n')\n",
    "    \n",
    "for i in sentences:\n",
    "    \n",
    "    print(f'Sentence: {i}')\n",
    "    print(analyzer_eng(i))\n",
    "    print('--------------------------------------------------------------------------------\\n')"
   ]
  },
  {
   "cell_type": "markdown",
   "metadata": {},
   "source": [
    "## Multilingual\n",
    "\n",
    "Tends to be lighter use 1 Multilingual Model than use 2 models because it has to be finnetuned, mainly in spanish. His default language and learning is in english"
   ]
  },
  {
   "cell_type": "code",
   "execution_count": 33,
   "metadata": {},
   "outputs": [],
   "source": [
    "\n",
    "# Really good multilingual model, lightweight and quite accurate in Spanish and English.\n",
    "\n",
    "analyzer_1 = pipeline(\"sentiment-analysis\", model=\"lxyuan/distilbert-base-multilingual-cased-sentiments-student\", framework=\"pt\")"
   ]
  },
  {
   "cell_type": "code",
   "execution_count": 34,
   "metadata": {},
   "outputs": [
    {
     "name": "stdout",
     "output_type": "stream",
     "text": [
      "-------------------------------------------------------------------------\n",
      "Model lxyuan/distilbert-base-multilingual-cased-sentiments-student\n",
      "-------------------------------------------------------------------------\n",
      "\n",
      "Sentence: Lo que se hizo es malisimo lo detesto.\n",
      "[{'label': 'negative', 'score': 0.9654184579849243}]\n",
      "--------------------------------------------------------------------------------\n",
      "\n",
      "Sentence: I really hate what he did. It was not a good week.\n",
      "[{'label': 'negative', 'score': 0.9675229787826538}]\n",
      "--------------------------------------------------------------------------------\n",
      "\n",
      "Sentence: me parece muy bueno todo estoy agradecido.\n",
      "[{'label': 'positive', 'score': 0.986839771270752}]\n",
      "--------------------------------------------------------------------------------\n",
      "\n",
      "Sentence: I think all the people has the comittment to work fine and I am thanks because of that.\n",
      "[{'label': 'positive', 'score': 0.6303771138191223}]\n",
      "--------------------------------------------------------------------------------\n",
      "\n",
      "Sentence: I am so happy to be here\n",
      "[{'label': 'positive', 'score': 0.9474217891693115}]\n",
      "--------------------------------------------------------------------------------\n",
      "\n",
      "Sentence: Me sentí muy feliz a lo largo de la jornada. Quiero destacar que el trabajo en equipo fue muy positivo y me apoyo aunque no fue del todo fácil. Entiendo que es parte de un período de adaptación.\n",
      "[{'label': 'positive', 'score': 0.9440904259681702}]\n",
      "--------------------------------------------------------------------------------\n",
      "\n",
      "Sentence: I felt very happy throughout the day. I want to highlight that the teamwork was very positive and they supported me although it was not entirely easy. I understand that it is part of a period of adaptation.\n",
      "[{'label': 'positive', 'score': 0.9272013902664185}]\n",
      "--------------------------------------------------------------------------------\n",
      "\n",
      "Sentence: Creo que el stack tecnologico no es muy bueno y no me quedan claros los requerimentos. Debería haber más esfuerzo por parte de los jefes y líderes del equipo\n",
      "[{'label': 'negative', 'score': 0.881836473941803}]\n",
      "--------------------------------------------------------------------------------\n",
      "\n",
      "Sentence: I think the technological stack is not very good and the requirements are not clear to me. There should be more effort on the part of the bosses and team leaders.\n",
      "[{'label': 'negative', 'score': 0.8952892422676086}]\n",
      "--------------------------------------------------------------------------------\n",
      "\n"
     ]
    }
   ],
   "source": [
    "\n",
    "print('-------------------------------------------------------------------------')\n",
    "print(f'Model {analyzer_1.model.name_or_path}')\n",
    "print('-------------------------------------------------------------------------\\n')\n",
    "    \n",
    "for i in sentences:\n",
    "    \n",
    "    print(f'Sentence: {i}')\n",
    "    print(analyzer_1(i))\n",
    "    print('--------------------------------------------------------------------------------\\n')"
   ]
  },
  {
   "cell_type": "code",
   "execution_count": 35,
   "metadata": {},
   "outputs": [],
   "source": [
    "\n",
    "# Multilingual model with 5 tags that describes from worst to best with 5 stars. His interpretation is not especially good in Spanish \n",
    "# but it is trained in other languages with more data and better accuracy, mainly in English.\n",
    "\n",
    "analyzer_2 = pipeline(\"sentiment-analysis\", model=\"nlptown/bert-base-multilingual-uncased-sentiment\", framework=\"pt\")"
   ]
  },
  {
   "cell_type": "code",
   "execution_count": 36,
   "metadata": {},
   "outputs": [
    {
     "name": "stdout",
     "output_type": "stream",
     "text": [
      "-------------------------------------------------------------------------\n",
      "Model nlptown/bert-base-multilingual-uncased-sentiment\n",
      "-------------------------------------------------------------------------\n",
      "\n",
      "Sentence: Lo que se hizo es malisimo lo detesto.\n",
      "[{'label': '1 star', 'score': 0.9083830118179321}]\n",
      "--------------------------------------------------------------------------------\n",
      "\n",
      "Sentence: I really hate what he did. It was not a good week.\n",
      "[{'label': '1 star', 'score': 0.5446393489837646}]\n",
      "--------------------------------------------------------------------------------\n",
      "\n",
      "Sentence: me parece muy bueno todo estoy agradecido.\n",
      "[{'label': '5 stars', 'score': 0.6715044379234314}]\n",
      "--------------------------------------------------------------------------------\n",
      "\n",
      "Sentence: I think all the people has the comittment to work fine and I am thanks because of that.\n",
      "[{'label': '5 stars', 'score': 0.47652143239974976}]\n",
      "--------------------------------------------------------------------------------\n",
      "\n",
      "Sentence: I am so happy to be here\n",
      "[{'label': '5 stars', 'score': 0.8082501888275146}]\n",
      "--------------------------------------------------------------------------------\n",
      "\n",
      "Sentence: Me sentí muy feliz a lo largo de la jornada. Quiero destacar que el trabajo en equipo fue muy positivo y me apoyo aunque no fue del todo fácil. Entiendo que es parte de un período de adaptación.\n",
      "[{'label': '4 stars', 'score': 0.6854276061058044}]\n",
      "--------------------------------------------------------------------------------\n",
      "\n",
      "Sentence: I felt very happy throughout the day. I want to highlight that the teamwork was very positive and they supported me although it was not entirely easy. I understand that it is part of a period of adaptation.\n",
      "[{'label': '4 stars', 'score': 0.668318510055542}]\n",
      "--------------------------------------------------------------------------------\n",
      "\n",
      "Sentence: Creo que el stack tecnologico no es muy bueno y no me quedan claros los requerimentos. Debería haber más esfuerzo por parte de los jefes y líderes del equipo\n",
      "[{'label': '2 stars', 'score': 0.5435385704040527}]\n",
      "--------------------------------------------------------------------------------\n",
      "\n",
      "Sentence: I think the technological stack is not very good and the requirements are not clear to me. There should be more effort on the part of the bosses and team leaders.\n",
      "[{'label': '2 stars', 'score': 0.5070886611938477}]\n",
      "--------------------------------------------------------------------------------\n",
      "\n"
     ]
    }
   ],
   "source": [
    "\n",
    "print('-------------------------------------------------------------------------')\n",
    "print(f'Model {analyzer_2.model.name_or_path}')\n",
    "print('-------------------------------------------------------------------------\\n')\n",
    "    \n",
    "for i in sentences:\n",
    "    \n",
    "    print(f'Sentence: {i}')\n",
    "    print(analyzer_2(i))\n",
    "    print('--------------------------------------------------------------------------------\\n')"
   ]
  },
  {
   "cell_type": "code",
   "execution_count": 37,
   "metadata": {},
   "outputs": [],
   "source": [
    "\n",
    "# Really balanced model: Multilingual, good features and very light. The model tends to lose precision with some long words and phrases\n",
    "# but continues to understand the trend and avoid making mistakes in the label decision.\n",
    "\n",
    "analyzer_3 = pipeline(\"sentiment-analysis\", model=\"philschmid/distilbert-base-multilingual-cased-sentiment\", framework=\"pt\")"
   ]
  },
  {
   "cell_type": "code",
   "execution_count": 38,
   "metadata": {},
   "outputs": [
    {
     "name": "stdout",
     "output_type": "stream",
     "text": [
      "-------------------------------------------------------------------------\n",
      "Model philschmid/distilbert-base-multilingual-cased-sentiment\n",
      "-------------------------------------------------------------------------\n",
      "\n",
      "Sentence: Lo que se hizo es malisimo lo detesto.\n",
      "[{'label': 'negative', 'score': 0.9141145348548889}]\n",
      "--------------------------------------------------------------------------------\n",
      "\n",
      "Sentence: I really hate what he did. It was not a good week.\n",
      "[{'label': 'negative', 'score': 0.9255995750427246}]\n",
      "--------------------------------------------------------------------------------\n",
      "\n",
      "Sentence: me parece muy bueno todo estoy agradecido.\n",
      "[{'label': 'positive', 'score': 0.9130302667617798}]\n",
      "--------------------------------------------------------------------------------\n",
      "\n",
      "Sentence: I think all the people has the comittment to work fine and I am thanks because of that.\n",
      "[{'label': 'positive', 'score': 0.9707993268966675}]\n",
      "--------------------------------------------------------------------------------\n",
      "\n",
      "Sentence: I am so happy to be here\n",
      "[{'label': 'positive', 'score': 0.9527714848518372}]\n",
      "--------------------------------------------------------------------------------\n",
      "\n",
      "Sentence: Me sentí muy feliz a lo largo de la jornada. Quiero destacar que el trabajo en equipo fue muy positivo y me apoyo aunque no fue del todo fácil. Entiendo que es parte de un período de adaptación.\n",
      "[{'label': 'positive', 'score': 0.8418931365013123}]\n",
      "--------------------------------------------------------------------------------\n",
      "\n",
      "Sentence: I felt very happy throughout the day. I want to highlight that the teamwork was very positive and they supported me although it was not entirely easy. I understand that it is part of a period of adaptation.\n",
      "[{'label': 'positive', 'score': 0.9349239468574524}]\n",
      "--------------------------------------------------------------------------------\n",
      "\n",
      "Sentence: Creo que el stack tecnologico no es muy bueno y no me quedan claros los requerimentos. Debería haber más esfuerzo por parte de los jefes y líderes del equipo\n",
      "[{'label': 'negative', 'score': 0.6313982605934143}]\n",
      "--------------------------------------------------------------------------------\n",
      "\n",
      "Sentence: I think the technological stack is not very good and the requirements are not clear to me. There should be more effort on the part of the bosses and team leaders.\n",
      "[{'label': 'negative', 'score': 0.596371591091156}]\n",
      "--------------------------------------------------------------------------------\n",
      "\n"
     ]
    }
   ],
   "source": [
    "\n",
    "print('-------------------------------------------------------------------------')\n",
    "print(f'Model {analyzer_3.model.name_or_path}')\n",
    "print('-------------------------------------------------------------------------\\n')\n",
    "    \n",
    "for i in sentences:\n",
    "    \n",
    "    print(f'Sentence: {i}')\n",
    "    print(analyzer_3(i))\n",
    "    print('--------------------------------------------------------------------------------\\n')"
   ]
  },
  {
   "cell_type": "code",
   "execution_count": 39,
   "metadata": {},
   "outputs": [],
   "source": [
    "# Tends to central scoring and has worst performance with long sentences or a lot of words. I need to do more testing.\n",
    "\n",
    "analyzer_4 = pipeline(\"sentiment-analysis\", model=\"arjuntheprogrammer/distilbert-base-multilingual-cased-sentiment-2\", framework=\"pt\")"
   ]
  },
  {
   "cell_type": "code",
   "execution_count": 40,
   "metadata": {},
   "outputs": [
    {
     "name": "stdout",
     "output_type": "stream",
     "text": [
      "-------------------------------------------------------------------------\n",
      "Model arjuntheprogrammer/distilbert-base-multilingual-cased-sentiment-2\n",
      "-------------------------------------------------------------------------\n",
      "\n",
      "Sentence: Lo que se hizo es malisimo lo detesto.\n",
      "[{'label': 'negative', 'score': 0.8638889789581299}]\n",
      "--------------------------------------------------------------------------------\n",
      "\n",
      "Sentence: I really hate what he did. It was not a good week.\n",
      "[{'label': 'negative', 'score': 0.8020395040512085}]\n",
      "--------------------------------------------------------------------------------\n",
      "\n",
      "Sentence: me parece muy bueno todo estoy agradecido.\n",
      "[{'label': 'positive', 'score': 0.9395526647567749}]\n",
      "--------------------------------------------------------------------------------\n",
      "\n",
      "Sentence: I think all the people has the comittment to work fine and I am thanks because of that.\n",
      "[{'label': 'neutral', 'score': 0.6768832206726074}]\n",
      "--------------------------------------------------------------------------------\n",
      "\n",
      "Sentence: I am so happy to be here\n",
      "[{'label': 'positive', 'score': 0.9681393504142761}]\n",
      "--------------------------------------------------------------------------------\n",
      "\n",
      "Sentence: Me sentí muy feliz a lo largo de la jornada. Quiero destacar que el trabajo en equipo fue muy positivo y me apoyo aunque no fue del todo fácil. Entiendo que es parte de un período de adaptación.\n",
      "[{'label': 'positive', 'score': 0.42684268951416016}]\n",
      "--------------------------------------------------------------------------------\n",
      "\n",
      "Sentence: I felt very happy throughout the day. I want to highlight that the teamwork was very positive and they supported me although it was not entirely easy. I understand that it is part of a period of adaptation.\n",
      "[{'label': 'positive', 'score': 0.96244877576828}]\n",
      "--------------------------------------------------------------------------------\n",
      "\n",
      "Sentence: Creo que el stack tecnologico no es muy bueno y no me quedan claros los requerimentos. Debería haber más esfuerzo por parte de los jefes y líderes del equipo\n",
      "[{'label': 'neutral', 'score': 0.5446538329124451}]\n",
      "--------------------------------------------------------------------------------\n",
      "\n",
      "Sentence: I think the technological stack is not very good and the requirements are not clear to me. There should be more effort on the part of the bosses and team leaders.\n",
      "[{'label': 'neutral', 'score': 0.6632183790206909}]\n",
      "--------------------------------------------------------------------------------\n",
      "\n"
     ]
    }
   ],
   "source": [
    "\n",
    "print('-------------------------------------------------------------------------')\n",
    "print(f'Model {analyzer_4.model.name_or_path}')\n",
    "print('-------------------------------------------------------------------------\\n')\n",
    "    \n",
    "for i in sentences:\n",
    "    \n",
    "    print(f'Sentence: {i}')\n",
    "    print(analyzer_4(i))\n",
    "    print('--------------------------------------------------------------------------------\\n')"
   ]
  },
  {
   "cell_type": "code",
   "execution_count": 41,
   "metadata": {},
   "outputs": [],
   "source": [
    "# Testing...\n",
    "\n",
    "analyzer_5 = pipeline(\"sentiment-analysis\", model=\"philschmid/distilbert-base-multilingual-cased-sentiment-2\", framework=\"pt\")"
   ]
  },
  {
   "cell_type": "code",
   "execution_count": 42,
   "metadata": {},
   "outputs": [
    {
     "name": "stdout",
     "output_type": "stream",
     "text": [
      "-------------------------------------------------------------------------\n",
      "Model philschmid/distilbert-base-multilingual-cased-sentiment-2\n",
      "-------------------------------------------------------------------------\n",
      "\n",
      "Sentence: Lo que se hizo es malisimo lo detesto.\n",
      "[{'label': 'negative', 'score': 0.8163114190101624}]\n",
      "--------------------------------------------------------------------------------\n",
      "\n",
      "Sentence: I really hate what he did. It was not a good week.\n",
      "[{'label': 'negative', 'score': 0.6100201606750488}]\n",
      "--------------------------------------------------------------------------------\n",
      "\n",
      "Sentence: me parece muy bueno todo estoy agradecido.\n",
      "[{'label': 'positive', 'score': 0.920467734336853}]\n",
      "--------------------------------------------------------------------------------\n",
      "\n",
      "Sentence: I think all the people has the comittment to work fine and I am thanks because of that.\n",
      "[{'label': 'positive', 'score': 0.9330447912216187}]\n",
      "--------------------------------------------------------------------------------\n",
      "\n",
      "Sentence: I am so happy to be here\n",
      "[{'label': 'positive', 'score': 0.92623370885849}]\n",
      "--------------------------------------------------------------------------------\n",
      "\n",
      "Sentence: Me sentí muy feliz a lo largo de la jornada. Quiero destacar que el trabajo en equipo fue muy positivo y me apoyo aunque no fue del todo fácil. Entiendo que es parte de un período de adaptación.\n",
      "[{'label': 'positive', 'score': 0.9802991151809692}]\n",
      "--------------------------------------------------------------------------------\n",
      "\n",
      "Sentence: I felt very happy throughout the day. I want to highlight that the teamwork was very positive and they supported me although it was not entirely easy. I understand that it is part of a period of adaptation.\n",
      "[{'label': 'positive', 'score': 0.9028756022453308}]\n",
      "--------------------------------------------------------------------------------\n",
      "\n",
      "Sentence: Creo que el stack tecnologico no es muy bueno y no me quedan claros los requerimentos. Debería haber más esfuerzo por parte de los jefes y líderes del equipo\n",
      "[{'label': 'negative', 'score': 0.5865105986595154}]\n",
      "--------------------------------------------------------------------------------\n",
      "\n",
      "Sentence: I think the technological stack is not very good and the requirements are not clear to me. There should be more effort on the part of the bosses and team leaders.\n",
      "[{'label': 'neutral', 'score': 0.5834035277366638}]\n",
      "--------------------------------------------------------------------------------\n",
      "\n"
     ]
    }
   ],
   "source": [
    "\n",
    "print('-------------------------------------------------------------------------')\n",
    "print(f'Model {analyzer_5.model.name_or_path}')\n",
    "print('-------------------------------------------------------------------------\\n')\n",
    "    \n",
    "for i in sentences:\n",
    "    \n",
    "    print(f'Sentence: {i}')\n",
    "    print(analyzer_5(i))\n",
    "    print('--------------------------------------------------------------------------------\\n')"
   ]
  }
 ],
 "metadata": {
  "kernelspec": {
   "display_name": "Python 3",
   "language": "python",
   "name": "python3"
  },
  "language_info": {
   "codemirror_mode": {
    "name": "ipython",
    "version": 3
   },
   "file_extension": ".py",
   "mimetype": "text/x-python",
   "name": "python",
   "nbconvert_exporter": "python",
   "pygments_lexer": "ipython3",
   "version": "3.11.6"
  }
 },
 "nbformat": 4,
 "nbformat_minor": 2
}
