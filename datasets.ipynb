{
 "cells": [
  {
   "cell_type": "code",
   "execution_count": 128,
   "metadata": {},
   "outputs": [],
   "source": [
    "from datasets import load_dataset\n",
    "import pandas as pd"
   ]
  },
  {
   "cell_type": "markdown",
   "metadata": {},
   "source": [
    "## Spanish Dataset"
   ]
  },
  {
   "cell_type": "code",
   "execution_count": 129,
   "metadata": {},
   "outputs": [],
   "source": [
    "twitter_spanish = load_dataset(\"BrunoGR/Twitter_Sentiment_Analysis_Train_Corpus_in_Spanish\")"
   ]
  },
  {
   "cell_type": "markdown",
   "metadata": {},
   "source": [
    "We create a Dataframe for easier management."
   ]
  },
  {
   "cell_type": "code",
   "execution_count": 130,
   "metadata": {},
   "outputs": [],
   "source": [
    "df = pd.DataFrame(twitter_spanish['train'])"
   ]
  },
  {
   "cell_type": "code",
   "execution_count": 131,
   "metadata": {},
   "outputs": [
    {
     "data": {
      "text/html": [
       "<div>\n",
       "<style scoped>\n",
       "    .dataframe tbody tr th:only-of-type {\n",
       "        vertical-align: middle;\n",
       "    }\n",
       "\n",
       "    .dataframe tbody tr th {\n",
       "        vertical-align: top;\n",
       "    }\n",
       "\n",
       "    .dataframe thead th {\n",
       "        text-align: right;\n",
       "    }\n",
       "</style>\n",
       "<table border=\"1\" class=\"dataframe\">\n",
       "  <thead>\n",
       "    <tr style=\"text-align: right;\">\n",
       "      <th></th>\n",
       "      <th>etiqueta</th>\n",
       "      <th>texto</th>\n",
       "    </tr>\n",
       "  </thead>\n",
       "  <tbody>\n",
       "    <tr>\n",
       "      <th>0</th>\n",
       "      <td>Sentimiento: Negativo</td>\n",
       "      <td>Consulta: &lt; @USUARIO Mi pobre y pequeña bola d...</td>\n",
       "    </tr>\n",
       "    <tr>\n",
       "      <th>1</th>\n",
       "      <td>Sentimiento: Negativo</td>\n",
       "      <td>Consulta: &lt; Me voy demasiado a la cama. Tengo ...</td>\n",
       "    </tr>\n",
       "    <tr>\n",
       "      <th>2</th>\n",
       "      <td>Sentimiento: Negativo</td>\n",
       "      <td>Consulta: &lt; Todavía no he podido escucharlo. M...</td>\n",
       "    </tr>\n",
       "    <tr>\n",
       "      <th>3</th>\n",
       "      <td>Sentimiento: Negativo</td>\n",
       "      <td>Consulta: &lt; ahora recuerda por qué resolver un...</td>\n",
       "    </tr>\n",
       "    <tr>\n",
       "      <th>4</th>\n",
       "      <td>Sentimiento: Negativo</td>\n",
       "      <td>Consulta: &lt; Comí demasiado, me siento mal&gt;\\n</td>\n",
       "    </tr>\n",
       "    <tr>\n",
       "      <th>...</th>\n",
       "      <td>...</td>\n",
       "      <td>...</td>\n",
       "    </tr>\n",
       "    <tr>\n",
       "      <th>1082816</th>\n",
       "      <td>Sentimiento: Negativo</td>\n",
       "      <td>Consulta: &lt; Hoy vi a mucha gente que extrañé.....</td>\n",
       "    </tr>\n",
       "    <tr>\n",
       "      <th>1082817</th>\n",
       "      <td>Sentimiento: Positivo</td>\n",
       "      <td>Consulta: &lt; - Me gusta&gt;\\n</td>\n",
       "    </tr>\n",
       "    <tr>\n",
       "      <th>1082818</th>\n",
       "      <td>Sentimiento: Positivo</td>\n",
       "      <td>Consulta: &lt; arando a través de las asignacione...</td>\n",
       "    </tr>\n",
       "    <tr>\n",
       "      <th>1082819</th>\n",
       "      <td>Sentimiento: Positivo</td>\n",
       "      <td>Consulta: &lt; @USUARIO No veo la hora de ver a J...</td>\n",
       "    </tr>\n",
       "    <tr>\n",
       "      <th>1082820</th>\n",
       "      <td>Sentimiento: Positivo</td>\n",
       "      <td>Consulta: &lt; @USUARIO Lugares bastante fantásti...</td>\n",
       "    </tr>\n",
       "  </tbody>\n",
       "</table>\n",
       "<p>1082821 rows × 2 columns</p>\n",
       "</div>"
      ],
      "text/plain": [
       "                      etiqueta  \\\n",
       "0        Sentimiento: Negativo   \n",
       "1        Sentimiento: Negativo   \n",
       "2        Sentimiento: Negativo   \n",
       "3        Sentimiento: Negativo   \n",
       "4        Sentimiento: Negativo   \n",
       "...                        ...   \n",
       "1082816  Sentimiento: Negativo   \n",
       "1082817  Sentimiento: Positivo   \n",
       "1082818  Sentimiento: Positivo   \n",
       "1082819  Sentimiento: Positivo   \n",
       "1082820  Sentimiento: Positivo   \n",
       "\n",
       "                                                     texto  \n",
       "0        Consulta: < @USUARIO Mi pobre y pequeña bola d...  \n",
       "1        Consulta: < Me voy demasiado a la cama. Tengo ...  \n",
       "2        Consulta: < Todavía no he podido escucharlo. M...  \n",
       "3        Consulta: < ahora recuerda por qué resolver un...  \n",
       "4             Consulta: < Comí demasiado, me siento mal>\\n  \n",
       "...                                                    ...  \n",
       "1082816  Consulta: < Hoy vi a mucha gente que extrañé.....  \n",
       "1082817                          Consulta: < - Me gusta>\\n  \n",
       "1082818  Consulta: < arando a través de las asignacione...  \n",
       "1082819  Consulta: < @USUARIO No veo la hora de ver a J...  \n",
       "1082820  Consulta: < @USUARIO Lugares bastante fantásti...  \n",
       "\n",
       "[1082821 rows x 2 columns]"
      ]
     },
     "execution_count": 131,
     "metadata": {},
     "output_type": "execute_result"
    }
   ],
   "source": [
    "df"
   ]
  },
  {
   "cell_type": "code",
   "execution_count": 132,
   "metadata": {},
   "outputs": [
    {
     "data": {
      "text/plain": [
       "etiqueta\n",
       "Sentimiento: Negativo    543894\n",
       "Sentimiento: Positivo    538927\n",
       "Name: count, dtype: int64"
      ]
     },
     "execution_count": 132,
     "metadata": {},
     "output_type": "execute_result"
    }
   ],
   "source": [
    "# Balanced Dataset\n",
    "\n",
    "df['etiqueta'].value_counts() "
   ]
  },
  {
   "cell_type": "markdown",
   "metadata": {},
   "source": [
    "We take 50k randomly selected data"
   ]
  },
  {
   "cell_type": "code",
   "execution_count": 133,
   "metadata": {},
   "outputs": [],
   "source": [
    "df = df.sample(50000)"
   ]
  },
  {
   "cell_type": "code",
   "execution_count": 134,
   "metadata": {},
   "outputs": [
    {
     "data": {
      "text/plain": [
       "387072     Sentimiento: Positivo\n",
       "647122     Sentimiento: Negativo\n",
       "1076575    Sentimiento: Positivo\n",
       "842699     Sentimiento: Positivo\n",
       "64125      Sentimiento: Negativo\n",
       "                   ...          \n",
       "714976     Sentimiento: Positivo\n",
       "858689     Sentimiento: Negativo\n",
       "1081849    Sentimiento: Positivo\n",
       "179247     Sentimiento: Negativo\n",
       "399629     Sentimiento: Negativo\n",
       "Name: etiqueta, Length: 50000, dtype: object"
      ]
     },
     "execution_count": 134,
     "metadata": {},
     "output_type": "execute_result"
    }
   ],
   "source": [
    "df['etiqueta']"
   ]
  },
  {
   "cell_type": "markdown",
   "metadata": {},
   "source": [
    "Change the labels to 0 for Negative and 1 for Positive"
   ]
  },
  {
   "cell_type": "code",
   "execution_count": 135,
   "metadata": {},
   "outputs": [],
   "source": [
    "df['etiqueta'] = df['etiqueta'].apply(lambda x: 0 if x == 'Sentimiento: Negativo' else 1).astype(int)"
   ]
  },
  {
   "cell_type": "code",
   "execution_count": 136,
   "metadata": {},
   "outputs": [
    {
     "data": {
      "text/plain": [
       "387072     Consulta: < Todos mis compañeros de escuela ca...\n",
       "647122     Consulta: < se siente perdido que es lo que qu...\n",
       "1076575    Consulta: <Bootleg: The Killers - En vivo en L...\n",
       "842699          Consulta: < @USER pero Kiwein lo compensó>\\n\n",
       "64125      Consulta: < @USUARIO lamento escuchar que tu p...\n",
       "                                 ...                        \n",
       "714976     Consulta: < @USUARIO Déjame saber lo que piens...\n",
       "858689     Consulta: < No creo que el cóctel de analgésic...\n",
       "1081849    Consulta: < Sólo ï¿½18, eso es genial! Puedo v...\n",
       "179247     Consulta: < @USUARIO oye, leí lo que pasó, lo ...\n",
       "399629          Consulta: < @USUARIO pero acabo de entrar>\\n\n",
       "Name: texto, Length: 50000, dtype: object"
      ]
     },
     "execution_count": 136,
     "metadata": {},
     "output_type": "execute_result"
    }
   ],
   "source": [
    "df['texto']"
   ]
  },
  {
   "cell_type": "markdown",
   "metadata": {},
   "source": [
    "Clean the 'texto' field taking just the sentence between '< >' and delete common innecesary things."
   ]
  },
  {
   "cell_type": "code",
   "execution_count": 137,
   "metadata": {},
   "outputs": [],
   "source": [
    "df['texto'] = df['texto'].str.extract(r'<(.*?)>')\n",
    "df['texto'] = df['texto'].apply(lambda x: x.replace('@USER', '') )\n",
    "df['texto'] = df['texto'].apply(lambda x: x.replace('@USUARIO', '') )"
   ]
  },
  {
   "cell_type": "code",
   "execution_count": 138,
   "metadata": {},
   "outputs": [
    {
     "data": {
      "text/plain": [
       "387072      Todos mis compañeros de escuela cantan feliz ...\n",
       "647122              se siente perdido que es lo que quiero?!\n",
       "1076575    Bootleg: The Killers - En vivo en Londres 2008...\n",
       "842699                               pero Kiwein lo compensó\n",
       "64125        lamento escuchar que tu perro murió. Eso sie...\n",
       "                                 ...                        \n",
       "714976       Déjame saber lo que piensas. Tengo una larga...\n",
       "858689      No creo que el cóctel de analgésicos que tomé...\n",
       "1081849     Sólo ï¿½18, eso es genial! Puedo ver mi foto ...\n",
       "179247       oye, leí lo que pasó, lo siento, te amo, por...\n",
       "399629                                  pero acabo de entrar\n",
       "Name: texto, Length: 50000, dtype: object"
      ]
     },
     "execution_count": 138,
     "metadata": {},
     "output_type": "execute_result"
    }
   ],
   "source": [
    "df['texto']"
   ]
  },
  {
   "cell_type": "markdown",
   "metadata": {},
   "source": [
    "Reset the index and delete the old one"
   ]
  },
  {
   "cell_type": "code",
   "execution_count": 139,
   "metadata": {},
   "outputs": [],
   "source": [
    "df.reset_index(drop=True, inplace= True)"
   ]
  },
  {
   "cell_type": "code",
   "execution_count": 140,
   "metadata": {},
   "outputs": [
    {
     "data": {
      "text/html": [
       "<div>\n",
       "<style scoped>\n",
       "    .dataframe tbody tr th:only-of-type {\n",
       "        vertical-align: middle;\n",
       "    }\n",
       "\n",
       "    .dataframe tbody tr th {\n",
       "        vertical-align: top;\n",
       "    }\n",
       "\n",
       "    .dataframe thead th {\n",
       "        text-align: right;\n",
       "    }\n",
       "</style>\n",
       "<table border=\"1\" class=\"dataframe\">\n",
       "  <thead>\n",
       "    <tr style=\"text-align: right;\">\n",
       "      <th></th>\n",
       "      <th>etiqueta</th>\n",
       "      <th>texto</th>\n",
       "    </tr>\n",
       "  </thead>\n",
       "  <tbody>\n",
       "    <tr>\n",
       "      <th>0</th>\n",
       "      <td>1</td>\n",
       "      <td>Todos mis compañeros de escuela cantan feliz ...</td>\n",
       "    </tr>\n",
       "    <tr>\n",
       "      <th>1</th>\n",
       "      <td>0</td>\n",
       "      <td>se siente perdido que es lo que quiero?!</td>\n",
       "    </tr>\n",
       "    <tr>\n",
       "      <th>2</th>\n",
       "      <td>1</td>\n",
       "      <td>Bootleg: The Killers - En vivo en Londres 2008...</td>\n",
       "    </tr>\n",
       "    <tr>\n",
       "      <th>3</th>\n",
       "      <td>1</td>\n",
       "      <td>pero Kiwein lo compensó</td>\n",
       "    </tr>\n",
       "    <tr>\n",
       "      <th>4</th>\n",
       "      <td>0</td>\n",
       "      <td>lamento escuchar que tu perro murió. Eso sie...</td>\n",
       "    </tr>\n",
       "    <tr>\n",
       "      <th>...</th>\n",
       "      <td>...</td>\n",
       "      <td>...</td>\n",
       "    </tr>\n",
       "    <tr>\n",
       "      <th>49995</th>\n",
       "      <td>1</td>\n",
       "      <td>Déjame saber lo que piensas. Tengo una larga...</td>\n",
       "    </tr>\n",
       "    <tr>\n",
       "      <th>49996</th>\n",
       "      <td>0</td>\n",
       "      <td>No creo que el cóctel de analgésicos que tomé...</td>\n",
       "    </tr>\n",
       "    <tr>\n",
       "      <th>49997</th>\n",
       "      <td>1</td>\n",
       "      <td>Sólo ï¿½18, eso es genial! Puedo ver mi foto ...</td>\n",
       "    </tr>\n",
       "    <tr>\n",
       "      <th>49998</th>\n",
       "      <td>0</td>\n",
       "      <td>oye, leí lo que pasó, lo siento, te amo, por...</td>\n",
       "    </tr>\n",
       "    <tr>\n",
       "      <th>49999</th>\n",
       "      <td>0</td>\n",
       "      <td>pero acabo de entrar</td>\n",
       "    </tr>\n",
       "  </tbody>\n",
       "</table>\n",
       "<p>50000 rows × 2 columns</p>\n",
       "</div>"
      ],
      "text/plain": [
       "       etiqueta                                              texto\n",
       "0             1   Todos mis compañeros de escuela cantan feliz ...\n",
       "1             0           se siente perdido que es lo que quiero?!\n",
       "2             1  Bootleg: The Killers - En vivo en Londres 2008...\n",
       "3             1                            pero Kiwein lo compensó\n",
       "4             0    lamento escuchar que tu perro murió. Eso sie...\n",
       "...         ...                                                ...\n",
       "49995         1    Déjame saber lo que piensas. Tengo una larga...\n",
       "49996         0   No creo que el cóctel de analgésicos que tomé...\n",
       "49997         1   Sólo ï¿½18, eso es genial! Puedo ver mi foto ...\n",
       "49998         0    oye, leí lo que pasó, lo siento, te amo, por...\n",
       "49999         0                               pero acabo de entrar\n",
       "\n",
       "[50000 rows x 2 columns]"
      ]
     },
     "execution_count": 140,
     "metadata": {},
     "output_type": "execute_result"
    }
   ],
   "source": [
    "df"
   ]
  },
  {
   "cell_type": "markdown",
   "metadata": {},
   "source": [
    "Save our clean dataset in csv"
   ]
  },
  {
   "cell_type": "code",
   "execution_count": 141,
   "metadata": {},
   "outputs": [],
   "source": [
    "dataset_test_es = df"
   ]
  },
  {
   "cell_type": "code",
   "execution_count": 142,
   "metadata": {},
   "outputs": [],
   "source": [
    "dataset_test_es.to_csv('./src/dataset_test_es')"
   ]
  },
  {
   "cell_type": "markdown",
   "metadata": {},
   "source": [
    "## English Dataset"
   ]
  },
  {
   "cell_type": "code",
   "execution_count": 143,
   "metadata": {},
   "outputs": [],
   "source": [
    "twitter_eng = load_dataset(\"tweet_eval\", \"sentiment\")"
   ]
  },
  {
   "cell_type": "code",
   "execution_count": 144,
   "metadata": {},
   "outputs": [],
   "source": [
    "# 23k\n",
    "\n",
    "df_train = pd.DataFrame(twitter_eng['train'])\n",
    "df_test = pd.DataFrame(twitter_eng['test'])"
   ]
  },
  {
   "cell_type": "code",
   "execution_count": 145,
   "metadata": {},
   "outputs": [],
   "source": [
    "twitter_eng = pd.concat([df_train, df_test])"
   ]
  },
  {
   "cell_type": "code",
   "execution_count": 146,
   "metadata": {},
   "outputs": [],
   "source": [
    "negative_samples = twitter_eng[twitter_eng['label'] == 0]\n",
    "positive_samples = twitter_eng[twitter_eng['label'] == 2].sample(11065)"
   ]
  },
  {
   "cell_type": "code",
   "execution_count": 147,
   "metadata": {},
   "outputs": [],
   "source": [
    "twitter_eng = pd.concat([negative_samples, positive_samples])"
   ]
  },
  {
   "cell_type": "code",
   "execution_count": 148,
   "metadata": {},
   "outputs": [
    {
     "data": {
      "text/plain": [
       "label\n",
       "0    11065\n",
       "2    11065\n",
       "Name: count, dtype: int64"
      ]
     },
     "execution_count": 148,
     "metadata": {},
     "output_type": "execute_result"
    }
   ],
   "source": [
    "twitter_eng['label'].value_counts()"
   ]
  },
  {
   "cell_type": "code",
   "execution_count": 149,
   "metadata": {},
   "outputs": [
    {
     "data": {
      "text/html": [
       "<div>\n",
       "<style scoped>\n",
       "    .dataframe tbody tr th:only-of-type {\n",
       "        vertical-align: middle;\n",
       "    }\n",
       "\n",
       "    .dataframe tbody tr th {\n",
       "        vertical-align: top;\n",
       "    }\n",
       "\n",
       "    .dataframe thead th {\n",
       "        text-align: right;\n",
       "    }\n",
       "</style>\n",
       "<table border=\"1\" class=\"dataframe\">\n",
       "  <thead>\n",
       "    <tr style=\"text-align: right;\">\n",
       "      <th></th>\n",
       "      <th>text</th>\n",
       "      <th>label</th>\n",
       "    </tr>\n",
       "  </thead>\n",
       "  <tbody>\n",
       "    <tr>\n",
       "      <th>7</th>\n",
       "      <td>So disappointed in wwe summerslam! I want to s...</td>\n",
       "      <td>0</td>\n",
       "    </tr>\n",
       "    <tr>\n",
       "      <th>13</th>\n",
       "      <td>That sucks if you have to take the SATs tomorrow</td>\n",
       "      <td>0</td>\n",
       "    </tr>\n",
       "    <tr>\n",
       "      <th>18</th>\n",
       "      <td>Amy Schumer sat down with The Hollywood Report...</td>\n",
       "      <td>0</td>\n",
       "    </tr>\n",
       "    <tr>\n",
       "      <th>42</th>\n",
       "      <td>@user how the hell does every one else get to ...</td>\n",
       "      <td>0</td>\n",
       "    </tr>\n",
       "    <tr>\n",
       "      <th>50</th>\n",
       "      <td>Thanks manager for putting me on the schedule ...</td>\n",
       "      <td>0</td>\n",
       "    </tr>\n",
       "    <tr>\n",
       "      <th>...</th>\n",
       "      <td>...</td>\n",
       "      <td>...</td>\n",
       "    </tr>\n",
       "    <tr>\n",
       "      <th>37104</th>\n",
       "      <td>@user love you too bro. Be safe on the road ba...</td>\n",
       "      <td>2</td>\n",
       "    </tr>\n",
       "    <tr>\n",
       "      <th>32888</th>\n",
       "      <td>Just saw \"Soaked In Bleach\". All I can say is ...</td>\n",
       "      <td>2</td>\n",
       "    </tr>\n",
       "    <tr>\n",
       "      <th>29563</th>\n",
       "      <td>\"On this day, 44 yrs ago, Zeppelin played thei...</td>\n",
       "      <td>2</td>\n",
       "    </tr>\n",
       "    <tr>\n",
       "      <th>5376</th>\n",
       "      <td>I love the Grateful Dead. I do not love weed. ...</td>\n",
       "      <td>2</td>\n",
       "    </tr>\n",
       "    <tr>\n",
       "      <th>21025</th>\n",
       "      <td>Ghoncheh Ghavami's day in court will take plac...</td>\n",
       "      <td>2</td>\n",
       "    </tr>\n",
       "  </tbody>\n",
       "</table>\n",
       "<p>22130 rows × 2 columns</p>\n",
       "</div>"
      ],
      "text/plain": [
       "                                                    text  label\n",
       "7      So disappointed in wwe summerslam! I want to s...      0\n",
       "13      That sucks if you have to take the SATs tomorrow      0\n",
       "18     Amy Schumer sat down with The Hollywood Report...      0\n",
       "42     @user how the hell does every one else get to ...      0\n",
       "50     Thanks manager for putting me on the schedule ...      0\n",
       "...                                                  ...    ...\n",
       "37104  @user love you too bro. Be safe on the road ba...      2\n",
       "32888  Just saw \"Soaked In Bleach\". All I can say is ...      2\n",
       "29563  \"On this day, 44 yrs ago, Zeppelin played thei...      2\n",
       "5376   I love the Grateful Dead. I do not love weed. ...      2\n",
       "21025  Ghoncheh Ghavami's day in court will take plac...      2\n",
       "\n",
       "[22130 rows x 2 columns]"
      ]
     },
     "execution_count": 149,
     "metadata": {},
     "output_type": "execute_result"
    }
   ],
   "source": [
    "twitter_eng"
   ]
  },
  {
   "cell_type": "code",
   "execution_count": 150,
   "metadata": {},
   "outputs": [],
   "source": [
    "twitter_eng['label'] = twitter_eng['label'].apply(lambda x: 1 if x == 2 else 0)"
   ]
  },
  {
   "cell_type": "code",
   "execution_count": 151,
   "metadata": {},
   "outputs": [],
   "source": [
    "twitter_eng['text'] = twitter_eng['text'].apply(lambda x: x.replace('@user', '') )\n",
    "twitter_eng['text'] = twitter_eng['text'].apply(lambda x: x.replace('br', '') )\n",
    "twitter_eng['text'] = twitter_eng['text'].apply(lambda x: x.replace('<', '') )\n",
    "twitter_eng['text'] = twitter_eng['text'].apply(lambda x: x.replace('>', '') )"
   ]
  },
  {
   "cell_type": "code",
   "execution_count": 152,
   "metadata": {},
   "outputs": [
    {
     "data": {
      "text/plain": [
       "7        So disappointed in wwe summerslam! I want to s...\n",
       "13        That sucks if you have to take the SATs tomorrow\n",
       "18       Amy Schumer sat down with The Hollywood Report...\n",
       "42        how the hell does every one else get to keep ...\n",
       "50       Thanks manager for putting me on the schedule ...\n",
       "                               ...                        \n",
       "37104     love you too o. Be safe on the road back home...\n",
       "32888    Just saw \"Soaked In Bleach\". All I can say is ...\n",
       "29563    \"On this day, 44 yrs ago, Zeppelin played thei...\n",
       "5376     I love the Grateful Dead. I do not love weed. ...\n",
       "21025    Ghoncheh Ghavami's day in court will take plac...\n",
       "Name: text, Length: 22130, dtype: object"
      ]
     },
     "execution_count": 152,
     "metadata": {},
     "output_type": "execute_result"
    }
   ],
   "source": [
    "twitter_eng['text']"
   ]
  },
  {
   "cell_type": "markdown",
   "metadata": {},
   "source": [
    "Long sentences"
   ]
  },
  {
   "cell_type": "code",
   "execution_count": 153,
   "metadata": {},
   "outputs": [],
   "source": [
    "imdb = load_dataset(\"imdb\")"
   ]
  },
  {
   "cell_type": "code",
   "execution_count": 154,
   "metadata": {},
   "outputs": [
    {
     "data": {
      "text/plain": [
       "DatasetDict({\n",
       "    train: Dataset({\n",
       "        features: ['text', 'label'],\n",
       "        num_rows: 25000\n",
       "    })\n",
       "    test: Dataset({\n",
       "        features: ['text', 'label'],\n",
       "        num_rows: 25000\n",
       "    })\n",
       "    unsupervised: Dataset({\n",
       "        features: ['text', 'label'],\n",
       "        num_rows: 50000\n",
       "    })\n",
       "})"
      ]
     },
     "execution_count": 154,
     "metadata": {},
     "output_type": "execute_result"
    }
   ],
   "source": [
    "imdb"
   ]
  },
  {
   "cell_type": "code",
   "execution_count": 155,
   "metadata": {},
   "outputs": [],
   "source": [
    "df_imdb = df = pd.DataFrame(imdb['train'])"
   ]
  },
  {
   "cell_type": "code",
   "execution_count": 156,
   "metadata": {},
   "outputs": [
    {
     "data": {
      "text/plain": [
       "label\n",
       "0    12500\n",
       "1    12500\n",
       "Name: count, dtype: int64"
      ]
     },
     "execution_count": 156,
     "metadata": {},
     "output_type": "execute_result"
    }
   ],
   "source": [
    "df_imdb['label'].value_counts()"
   ]
  },
  {
   "cell_type": "code",
   "execution_count": 157,
   "metadata": {},
   "outputs": [],
   "source": [
    "df_imdb['text'] = df_imdb['text'].apply(lambda x: x.replace('\\\\', '') )\n",
    "df_imdb['text'] = df_imdb['text'].apply(lambda x: x.replace('br', '') )\n",
    "df_imdb['text'] = df_imdb['text'].apply(lambda x: x.replace('<', '') )\n",
    "df_imdb['text'] = df_imdb['text'].apply(lambda x: x.replace('>', '') )"
   ]
  },
  {
   "cell_type": "code",
   "execution_count": 158,
   "metadata": {},
   "outputs": [
    {
     "data": {
      "text/plain": [
       "0        I rented I AM CURIOUS-YELLOW from my video sto...\n",
       "1        \"I Am Curious: Yellow\" is a risible and preten...\n",
       "2        If only to avoid making this type of film in t...\n",
       "3        This film was probably inspired by Godard's Ma...\n",
       "4        Oh, other...after hearing about this ridiculou...\n",
       "                               ...                        \n",
       "24995    A hit at the time but now better categorised a...\n",
       "24996    I love this movie like no other. Another time ...\n",
       "24997    This film and it's sequel Barry Mckenzie holds...\n",
       "24998    'The Adventures Of Barry McKenzie' started lif...\n",
       "24999    The story centers around Barry McKenzie who mu...\n",
       "Name: text, Length: 25000, dtype: object"
      ]
     },
     "execution_count": 158,
     "metadata": {},
     "output_type": "execute_result"
    }
   ],
   "source": [
    "df_imdb['text']"
   ]
  },
  {
   "cell_type": "code",
   "execution_count": 159,
   "metadata": {},
   "outputs": [
    {
     "data": {
      "text/html": [
       "<div>\n",
       "<style scoped>\n",
       "    .dataframe tbody tr th:only-of-type {\n",
       "        vertical-align: middle;\n",
       "    }\n",
       "\n",
       "    .dataframe tbody tr th {\n",
       "        vertical-align: top;\n",
       "    }\n",
       "\n",
       "    .dataframe thead th {\n",
       "        text-align: right;\n",
       "    }\n",
       "</style>\n",
       "<table border=\"1\" class=\"dataframe\">\n",
       "  <thead>\n",
       "    <tr style=\"text-align: right;\">\n",
       "      <th></th>\n",
       "      <th>text</th>\n",
       "      <th>label</th>\n",
       "    </tr>\n",
       "  </thead>\n",
       "  <tbody>\n",
       "    <tr>\n",
       "      <th>7</th>\n",
       "      <td>So disappointed in wwe summerslam! I want to s...</td>\n",
       "      <td>0</td>\n",
       "    </tr>\n",
       "    <tr>\n",
       "      <th>13</th>\n",
       "      <td>That sucks if you have to take the SATs tomorrow</td>\n",
       "      <td>0</td>\n",
       "    </tr>\n",
       "    <tr>\n",
       "      <th>18</th>\n",
       "      <td>Amy Schumer sat down with The Hollywood Report...</td>\n",
       "      <td>0</td>\n",
       "    </tr>\n",
       "    <tr>\n",
       "      <th>42</th>\n",
       "      <td>how the hell does every one else get to keep ...</td>\n",
       "      <td>0</td>\n",
       "    </tr>\n",
       "    <tr>\n",
       "      <th>50</th>\n",
       "      <td>Thanks manager for putting me on the schedule ...</td>\n",
       "      <td>0</td>\n",
       "    </tr>\n",
       "    <tr>\n",
       "      <th>...</th>\n",
       "      <td>...</td>\n",
       "      <td>...</td>\n",
       "    </tr>\n",
       "    <tr>\n",
       "      <th>37104</th>\n",
       "      <td>love you too o. Be safe on the road back home...</td>\n",
       "      <td>1</td>\n",
       "    </tr>\n",
       "    <tr>\n",
       "      <th>32888</th>\n",
       "      <td>Just saw \"Soaked In Bleach\". All I can say is ...</td>\n",
       "      <td>1</td>\n",
       "    </tr>\n",
       "    <tr>\n",
       "      <th>29563</th>\n",
       "      <td>\"On this day, 44 yrs ago, Zeppelin played thei...</td>\n",
       "      <td>1</td>\n",
       "    </tr>\n",
       "    <tr>\n",
       "      <th>5376</th>\n",
       "      <td>I love the Grateful Dead. I do not love weed. ...</td>\n",
       "      <td>1</td>\n",
       "    </tr>\n",
       "    <tr>\n",
       "      <th>21025</th>\n",
       "      <td>Ghoncheh Ghavami's day in court will take plac...</td>\n",
       "      <td>1</td>\n",
       "    </tr>\n",
       "  </tbody>\n",
       "</table>\n",
       "<p>22130 rows × 2 columns</p>\n",
       "</div>"
      ],
      "text/plain": [
       "                                                    text  label\n",
       "7      So disappointed in wwe summerslam! I want to s...      0\n",
       "13      That sucks if you have to take the SATs tomorrow      0\n",
       "18     Amy Schumer sat down with The Hollywood Report...      0\n",
       "42      how the hell does every one else get to keep ...      0\n",
       "50     Thanks manager for putting me on the schedule ...      0\n",
       "...                                                  ...    ...\n",
       "37104   love you too o. Be safe on the road back home...      1\n",
       "32888  Just saw \"Soaked In Bleach\". All I can say is ...      1\n",
       "29563  \"On this day, 44 yrs ago, Zeppelin played thei...      1\n",
       "5376   I love the Grateful Dead. I do not love weed. ...      1\n",
       "21025  Ghoncheh Ghavami's day in court will take plac...      1\n",
       "\n",
       "[22130 rows x 2 columns]"
      ]
     },
     "execution_count": 159,
     "metadata": {},
     "output_type": "execute_result"
    }
   ],
   "source": [
    "twitter_eng"
   ]
  },
  {
   "cell_type": "code",
   "execution_count": 160,
   "metadata": {},
   "outputs": [],
   "source": [
    "dataset_test_en = pd.concat([df_imdb, twitter_eng])"
   ]
  },
  {
   "cell_type": "code",
   "execution_count": 161,
   "metadata": {},
   "outputs": [
    {
     "data": {
      "text/plain": [
       "label\n",
       "0    23565\n",
       "1    23565\n",
       "Name: count, dtype: int64"
      ]
     },
     "execution_count": 161,
     "metadata": {},
     "output_type": "execute_result"
    }
   ],
   "source": [
    "dataset_test_en['label'].value_counts()"
   ]
  },
  {
   "cell_type": "code",
   "execution_count": 162,
   "metadata": {},
   "outputs": [],
   "source": [
    "dataset_test_en.to_csv('./src/dataset_test_en')"
   ]
  },
  {
   "cell_type": "code",
   "execution_count": 166,
   "metadata": {},
   "outputs": [],
   "source": [
    "dataset_test_es.rename(columns={'texto': 'text', 'etiqueta': 'label'}, inplace=True)"
   ]
  },
  {
   "cell_type": "code",
   "execution_count": 167,
   "metadata": {},
   "outputs": [],
   "source": [
    "mixed_dataset = pd.concat([dataset_test_en, dataset_test_es])"
   ]
  },
  {
   "cell_type": "code",
   "execution_count": 171,
   "metadata": {},
   "outputs": [
    {
     "data": {
      "text/html": [
       "<div>\n",
       "<style scoped>\n",
       "    .dataframe tbody tr th:only-of-type {\n",
       "        vertical-align: middle;\n",
       "    }\n",
       "\n",
       "    .dataframe tbody tr th {\n",
       "        vertical-align: top;\n",
       "    }\n",
       "\n",
       "    .dataframe thead th {\n",
       "        text-align: right;\n",
       "    }\n",
       "</style>\n",
       "<table border=\"1\" class=\"dataframe\">\n",
       "  <thead>\n",
       "    <tr style=\"text-align: right;\">\n",
       "      <th></th>\n",
       "      <th>text</th>\n",
       "      <th>label</th>\n",
       "    </tr>\n",
       "  </thead>\n",
       "  <tbody>\n",
       "    <tr>\n",
       "      <th>0</th>\n",
       "      <td>I rented I AM CURIOUS-YELLOW from my video sto...</td>\n",
       "      <td>0</td>\n",
       "    </tr>\n",
       "    <tr>\n",
       "      <th>1</th>\n",
       "      <td>\"I Am Curious: Yellow\" is a risible and preten...</td>\n",
       "      <td>0</td>\n",
       "    </tr>\n",
       "    <tr>\n",
       "      <th>2</th>\n",
       "      <td>If only to avoid making this type of film in t...</td>\n",
       "      <td>0</td>\n",
       "    </tr>\n",
       "    <tr>\n",
       "      <th>3</th>\n",
       "      <td>This film was probably inspired by Godard's Ma...</td>\n",
       "      <td>0</td>\n",
       "    </tr>\n",
       "    <tr>\n",
       "      <th>4</th>\n",
       "      <td>Oh, other...after hearing about this ridiculou...</td>\n",
       "      <td>0</td>\n",
       "    </tr>\n",
       "    <tr>\n",
       "      <th>...</th>\n",
       "      <td>...</td>\n",
       "      <td>...</td>\n",
       "    </tr>\n",
       "    <tr>\n",
       "      <th>49995</th>\n",
       "      <td>Déjame saber lo que piensas. Tengo una larga...</td>\n",
       "      <td>1</td>\n",
       "    </tr>\n",
       "    <tr>\n",
       "      <th>49996</th>\n",
       "      <td>No creo que el cóctel de analgésicos que tomé...</td>\n",
       "      <td>0</td>\n",
       "    </tr>\n",
       "    <tr>\n",
       "      <th>49997</th>\n",
       "      <td>Sólo ï¿½18, eso es genial! Puedo ver mi foto ...</td>\n",
       "      <td>1</td>\n",
       "    </tr>\n",
       "    <tr>\n",
       "      <th>49998</th>\n",
       "      <td>oye, leí lo que pasó, lo siento, te amo, por...</td>\n",
       "      <td>0</td>\n",
       "    </tr>\n",
       "    <tr>\n",
       "      <th>49999</th>\n",
       "      <td>pero acabo de entrar</td>\n",
       "      <td>0</td>\n",
       "    </tr>\n",
       "  </tbody>\n",
       "</table>\n",
       "<p>97130 rows × 2 columns</p>\n",
       "</div>"
      ],
      "text/plain": [
       "                                                    text  label\n",
       "0      I rented I AM CURIOUS-YELLOW from my video sto...      0\n",
       "1      \"I Am Curious: Yellow\" is a risible and preten...      0\n",
       "2      If only to avoid making this type of film in t...      0\n",
       "3      This film was probably inspired by Godard's Ma...      0\n",
       "4      Oh, other...after hearing about this ridiculou...      0\n",
       "...                                                  ...    ...\n",
       "49995    Déjame saber lo que piensas. Tengo una larga...      1\n",
       "49996   No creo que el cóctel de analgésicos que tomé...      0\n",
       "49997   Sólo ï¿½18, eso es genial! Puedo ver mi foto ...      1\n",
       "49998    oye, leí lo que pasó, lo siento, te amo, por...      0\n",
       "49999                               pero acabo de entrar      0\n",
       "\n",
       "[97130 rows x 2 columns]"
      ]
     },
     "execution_count": 171,
     "metadata": {},
     "output_type": "execute_result"
    }
   ],
   "source": [
    "mixed_dataset"
   ]
  },
  {
   "cell_type": "code",
   "execution_count": 170,
   "metadata": {},
   "outputs": [
    {
     "data": {
      "text/plain": [
       "label\n",
       "0    48788\n",
       "1    48342\n",
       "Name: count, dtype: int64"
      ]
     },
     "execution_count": 170,
     "metadata": {},
     "output_type": "execute_result"
    }
   ],
   "source": [
    "mixed_dataset['label'].value_counts()"
   ]
  },
  {
   "cell_type": "code",
   "execution_count": 172,
   "metadata": {},
   "outputs": [],
   "source": [
    "mixed_dataset.to_csv('./src/dataset_test_mixed')"
   ]
  },
  {
   "cell_type": "markdown",
   "metadata": {},
   "source": [
    "Other things"
   ]
  },
  {
   "cell_type": "code",
   "execution_count": 174,
   "metadata": {},
   "outputs": [
    {
     "name": "stdout",
     "output_type": "stream",
     "text": [
      "large_spanish_corpus\n",
      "spanish_billion_words\n",
      "PereLluis13/spanish_speech_text\n",
      "fvillena/spanish_diagnostics\n",
      "jhonparra18/spanish_billion_words_clean\n",
      "jorge-henao/disco_poetry_spanish\n",
      "IIC/spanish_biomedical_crawled_corpus\n",
      "IIC/lfqa_spanish\n",
      "josearangos/spanish-calls-corpus-Home\n",
      "josearangos/spanish-calls-corpus-Caribbean\n",
      "josearangos/spanish-calls-corpus-Friends\n",
      "sayalaruano/FakeNewsCorpusSpanish\n",
      "sayalaruano/FakeNewsSpanish_Kaggle1\n",
      "sayalaruano/FakeNewsSpanish_Kaggle2\n",
      "wesamhaddad14/spanishNLP\n",
      "IIC/spanish_biomedical_crawled_corpus_splitted\n",
      "andreamorgar/spanish_poetry\n",
      "hackathon-pln-es/Axolotl-Spanish-Nahuatl\n",
      "hackathon-pln-es/disco_spanish_poetry\n",
      "hackathon-pln-es/spanish-poetry-dataset\n",
      "hackathon-pln-es/spanish-to-quechua\n",
      "mathigatti/spanish_imdb_synopsis\n",
      "rockdrigoma/spanish-nahuatl-flagging\n",
      "pysentimiento/spanish-targeted-sentiment-headlines\n",
      "Nexdata/Spanish_Conversational_Speech_Data_by_Mobile_Phone\n",
      "Nexdata/Spanish_Speech_Data_by_Mobile_Phone\n",
      "Nexdata/Spanish_Speech_Data_by_Mobile_Phone_Reading\n",
      "Nexdata/Spanish_Speech_Data_by_Mobile_Phone_Guiding\n",
      "Nexdata/Spanish_Speech_Data\n",
      "Nexdata/Non-Hispanic_Spanish_Speech_Data_by_Mobile_Phone\n",
      "Nexdata/Spanish_Speaking_English_Speech_Data_by_Mobile_Phone\n",
      "eugenetanjc/speech_accent_spanish\n",
      "eugenetanjc/speech_accent_spanish_test\n",
      "santiagxf/spanish-marketing-tweets\n",
      "Paul/hatecheck-spanish\n",
      "biglam/spanish_golden_age_sonnets\n",
      "MariaIsabel/FR_NFR_Spanish_requirements_classification\n",
      "sepidmnorozy/Spanish_sentiment\n",
      "thebooort/spanish_golden_age_sonnets\n",
      "pysentimiento/spanish-tweets\n",
      "vialibre/splittedspanish3bwc\n",
      "Harsit/xnli2.0_spanish\n",
      "Harsit/xnli2.0_train_spanish\n",
      "PlanTL-GOB-ES/UD_Spanish-AnCora\n",
      "pysentimiento/spanish-tweets-small\n",
      "jorgeortizfuentes/spanish_books\n",
      "irds/trec-spanish\n",
      "irds/trec-spanish_trec3\n",
      "irds/trec-spanish_trec4\n",
      "jairodm/spanish-ner\n",
      "jairodm/spanish-ber-bk\n",
      "jorgeortizfuentes/small-chilean-spanish-corpus\n",
      "jnferfer/spanish_good_covid_news\n",
      "jorgeortizfuentes/chilean-spanish-corpus\n",
      "mrm8488/large_spanish_corpus_ds_tokenized_and_gropuped\n",
      "mrm8488/CHISTES_spanish_jokes\n",
      "MMG/SpanishBFF\n",
      "mrm8488/spanish_biomedical_ds_tokenized_and_gropuped\n",
      "mrm8488/spanish_legal_ds_tokenized_and_gropuped\n",
      "lopezjm96/spanish_voices\n",
      "Deysi/spanish-chinese\n",
      "rmcpantoja/Ald_Mexican_Spanish_speech_dataset\n",
      "bertin-project/alpaca-spanish\n",
      "tatsu23/spanishtwitch\n",
      "ashwathjadhav23/Spanish_MLM_1\n",
      "ashwathjadhav23/Spanish_MLM_2\n",
      "ashwathjadhav23/Spanish_MLM_3\n",
      "ashwathjadhav23/Spanish_MLM_4\n",
      "ashwathjadhav23/Spanish_MLM_5\n",
      "ashwathjadhav23/Spanish_MLM_6\n",
      "hackathon-somos-nlp-2023/winogrande_train_s_spanish\n",
      "mbruton/spanish_srl\n",
      "GIL-UNAM/SpanishParaphraseCorpora\n",
      "GIL-UNAM/negation_twitter_mexican_spanish\n",
      "ittailup/spanish_sentences\n",
      "jairodm/spanish-ner-bk-v2\n",
      "jganzabalseenka/mlsum-spanish-truncated-512\n",
      "jorgeortizfuentes/spanish_nominal_groups\n",
      "jorgeortizfuentes/spanish_attitude\n",
      "jorgeortizfuentes/spanish_attitude_conll2003\n",
      "FreedomIntelligence/alpaca-gpt4-spanish\n",
      "ralogon/llm-tolkien-spanish\n",
      "FreedomIntelligence/evol-instruct-spanish\n",
      "jorgeortizfuentes/universal_spanish_chilean_corpus\n",
      "daqc/wikihow-spanish\n",
      "jaimevera1107/similarity-sentences-spanish\n",
      "FreedomIntelligence/MMLU_Spanish\n",
      "jorgeortizfuentes/sfl_automatization_spanish_nominal_groups\n",
      "plncmm/spanish-alpaca\n",
      "daqc/wikipedia-txt-spanish\n",
      "garrachonr/DailyDB-Spanish-Llama2\n",
      "kaenakiakona/machinetranslationspanish\n",
      "BrunoGR/Twitter_Sentiment_Analysis_Train_Corpus_in_Spanish\n",
      "storresbusquets/asr-argentinian-spanish\n",
      "storresbusquets/asr-arg-spanish\n",
      "FreedomIntelligence/sharegpt-spanish\n",
      "jorgeortizfuentes/sfl_automatization_spanish_attitude\n",
      "Lotykun/spanish_story_telling\n",
      "Bluckr/assistant_spanish_pofi_v1\n",
      "Rodr16020/Bactrian-Spanish-Clean\n",
      "Lanave/spanish_dataset_for_donut\n",
      "Rodr16020/Bactrian-Spanish-Clean-Light\n",
      "Rodr16020/code_instructions_7_5k_alpaca_spanish\n",
      "Bluckr/function-calling-assistant-spanish-pofi-v2\n",
      "hacktoberfest-corpus-es/spanish_dish_title\n",
      "hacktoberfest-corpus-es/spanish_dish_instruction\n",
      "hacktoberfest-corpus-es/newyorker_caption_contest_spanish\n",
      "joheras/spanish-suicide-intent\n",
      "hacktoberfest-corpus-es/colmbian_spanish_news\n",
      "joheras/spanish-suicide-intent-information\n",
      "BrunoGR/emotional_response_spanish_dataset\n",
      "hlhdatscience/guanaco-spanish-dataset\n",
      "Ramitha/spanish-legal-data\n",
      "Ramitha/spanish-legal-data-lite\n",
      "Ramitha/spanish-legal-data-2\n",
      "Intuit-GenSRF/all_spanish_datasets\n",
      "Nexdata/Spanish_Conversational_Speech_Data_by_Telephone\n",
      "Nexdata/Latin_American_Spanish_Children_Spontaneous_Speech_Data\n",
      "Nexdata/Mexican_Spanish_Conversational_Speech_Data_by_Mobile_Phone\n",
      "sankettgorey/layouts_spanish\n",
      "sankettgorey/layouts_spanish2\n",
      "Cesar42/EmotionSpanish\n",
      "beltrewilton/punta-cana-spanish-reviews\n",
      "sankettgorey/spanish_english\n",
      "ylacombe/google-chilean-spanish\n",
      "ylacombe/google-argentinian-spanish\n",
      "ylacombe/google-colombian-spanish\n"
     ]
    }
   ],
   "source": [
    "from datasets import list_datasets\n",
    "\n",
    "# List of datasets included in the 'dataset' library\n",
    "datasets_list = list_datasets()\n",
    "\n",
    "# Looking for 'spanish' in a data set name\n",
    "spanish_datasets = [dataset_name for dataset_name in datasets_list if 'spanish' in dataset_name.lower()]\n",
    "\n",
    "print(*spanish_datasets, sep='\\n')"
   ]
  },
  {
   "cell_type": "markdown",
   "metadata": {},
   "source": [
    "# Some Spanish Datasets\n",
    "\n",
    "'BrunoGR/Twitter_Sentiment_Analysis_Train_Corpus_in_Spanish' # negative and positive --------- more than 130k row in total (train and test)\n",
    "\n",
    "'pysentimiento/spanish-targeted-sentiment-headlines' # A few rows 0 NEG, 1 NEU and 2 POS --------- 2k\n",
    "\n",
    "'sepidmnorozy/Spanish_sentiment' # A few rows (2k) and disbalanced class\n",
    "\n",
    "'beltrewilton/punta-cana-spanish-reviews' # 1 to 5 rate\n",
    "\n",
    "'large_spanish_corpus' # General sentences in spanish\n",
    "\n",
    "'BrunoGR/emotional_response_spanish_dataset' # Not labels just emotions\n"
   ]
  }
 ],
 "metadata": {
  "kernelspec": {
   "display_name": "Python 3",
   "language": "python",
   "name": "python3"
  },
  "language_info": {
   "codemirror_mode": {
    "name": "ipython",
    "version": 3
   },
   "file_extension": ".py",
   "mimetype": "text/x-python",
   "name": "python",
   "nbconvert_exporter": "python",
   "pygments_lexer": "ipython3",
   "version": "3.11.6"
  }
 },
 "nbformat": 4,
 "nbformat_minor": 2
}
